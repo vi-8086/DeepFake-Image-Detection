{
 "cells": [
  {
   "cell_type": "markdown",
   "id": "33980748",
   "metadata": {
    "papermill": {
     "duration": 0.002942,
     "end_time": "2024-06-27T17:33:03.393647",
     "exception": false,
     "start_time": "2024-06-27T17:33:03.390705",
     "status": "completed"
    },
    "tags": []
   },
   "source": [
    "# Data Loading and Preprocessing"
   ]
  },
  {
   "cell_type": "markdown",
   "id": "abc91709",
   "metadata": {
    "papermill": {
     "duration": 0.002316,
     "end_time": "2024-06-27T17:33:03.398569",
     "exception": false,
     "start_time": "2024-06-27T17:33:03.396253",
     "status": "completed"
    },
    "tags": []
   },
   "source": [
    "* No data augmentation was used\n",
    "* models evaluate the entire test directory\n",
    "* adam optimiser\n",
    "* 10 epochs only"
   ]
  },
  {
   "cell_type": "code",
   "execution_count": 1,
   "id": "92c0d1be",
   "metadata": {
    "execution": {
     "iopub.execute_input": "2024-06-27T17:33:03.405127Z",
     "iopub.status.busy": "2024-06-27T17:33:03.404431Z",
     "iopub.status.idle": "2024-06-27T17:40:19.410396Z",
     "shell.execute_reply": "2024-06-27T17:40:19.409412Z"
    },
    "papermill": {
     "duration": 436.011831,
     "end_time": "2024-06-27T17:40:19.412807",
     "exception": false,
     "start_time": "2024-06-27T17:33:03.400976",
     "status": "completed"
    },
    "tags": []
   },
   "outputs": [
    {
     "name": "stderr",
     "output_type": "stream",
     "text": [
      "2024-06-27 17:33:05.189750: E external/local_xla/xla/stream_executor/cuda/cuda_dnn.cc:9261] Unable to register cuDNN factory: Attempting to register factory for plugin cuDNN when one has already been registered\n",
      "2024-06-27 17:33:05.189878: E external/local_xla/xla/stream_executor/cuda/cuda_fft.cc:607] Unable to register cuFFT factory: Attempting to register factory for plugin cuFFT when one has already been registered\n",
      "2024-06-27 17:33:05.326918: E external/local_xla/xla/stream_executor/cuda/cuda_blas.cc:1515] Unable to register cuBLAS factory: Attempting to register factory for plugin cuBLAS when one has already been registered\n"
     ]
    },
    {
     "name": "stdout",
     "output_type": "stream",
     "text": [
      "Found 140002 files belonging to 2 classes.\n",
      "Found 140002 files belonging to 2 classes.\n",
      "Found 39428 files belonging to 2 classes.\n",
      "Found 39428 files belonging to 2 classes.\n",
      "Found 10905 files belonging to 2 classes.\n",
      "Found 10905 files belonging to 2 classes.\n"
     ]
    }
   ],
   "source": [
    "import tensorflow as tf\n",
    "from tensorflow.keras.preprocessing.image import ImageDataGenerator\n",
    "\n",
    "# path to dataset directories\n",
    "train_dir = \"/kaggle/input/deepfake-and-real-images/Dataset/Train\"\n",
    "validation_dir = \"/kaggle/input/deepfake-and-real-images/Dataset/Validation\"\n",
    "test_dir = \"/kaggle/input/deepfake-and-real-images/Dataset/Test\"\n",
    "\n",
    "# # data generators\n",
    "# train_datagen = ImageDataGenerator(rescale=1./255)\n",
    "# validation_datagen = ImageDataGenerator(rescale=1./255)\n",
    "# test_datagen = ImageDataGenerator(rescale=1./255)\n",
    "\n",
    "# Set batch size and img size\n",
    "batch_size = 64\n",
    "\n",
    "# Load and preprocess the training dataset\n",
    "train_data_v2M = tf.keras.utils.image_dataset_from_directory(\n",
    "    train_dir,\n",
    "    image_size=(260, 260),  #efficientnet- 260x260\n",
    "    batch_size=batch_size,\n",
    ")\n",
    "train_data_x = tf.keras.utils.image_dataset_from_directory(\n",
    "    train_dir,\n",
    "    image_size=(299, 299),  # Xception requires input size of 299x299\n",
    "    batch_size=batch_size  # Set class_mode according to your dataset\n",
    ")\n",
    "\n",
    "# Load and preprocess the validation dataset\n",
    "validation_data_v2M = tf.keras.utils.image_dataset_from_directory(\n",
    "    validation_dir,\n",
    "    image_size=(260, 260),\n",
    "    batch_size=batch_size\n",
    ")\n",
    "validation_data_x = tf.keras.utils.image_dataset_from_directory(\n",
    "    validation_dir,\n",
    "    image_size=(299, 299),\n",
    "    batch_size=batch_size\n",
    ")\n",
    "\n",
    "test_data_v2M = tf.keras.utils.image_dataset_from_directory(\n",
    "    test_dir,\n",
    "    image_size=(260, 260),  #efficientnet- 260x260\n",
    "    batch_size=batch_size,\n",
    ")\n",
    "test_data_x = tf.keras.utils.image_dataset_from_directory(\n",
    "    test_dir,\n",
    "    image_size=(299, 299),  # Xception requires input size of 299x299\n",
    "    batch_size=batch_size  # Set class_mode according to your dataset\n",
    ")"
   ]
  },
  {
   "cell_type": "markdown",
   "id": "4b624d2e",
   "metadata": {
    "papermill": {
     "duration": 0.003048,
     "end_time": "2024-06-27T17:40:19.419210",
     "exception": false,
     "start_time": "2024-06-27T17:40:19.416162",
     "status": "completed"
    },
    "tags": []
   },
   "source": [
    "# Xception"
   ]
  },
  {
   "cell_type": "code",
   "execution_count": 2,
   "id": "799d66eb",
   "metadata": {
    "execution": {
     "iopub.execute_input": "2024-06-27T17:40:19.426633Z",
     "iopub.status.busy": "2024-06-27T17:40:19.426321Z",
     "iopub.status.idle": "2024-06-27T19:30:04.354379Z",
     "shell.execute_reply": "2024-06-27T19:30:04.353368Z"
    },
    "papermill": {
     "duration": 6584.934232,
     "end_time": "2024-06-27T19:30:04.356481",
     "exception": false,
     "start_time": "2024-06-27T17:40:19.422249",
     "status": "completed"
    },
    "tags": []
   },
   "outputs": [
    {
     "name": "stdout",
     "output_type": "stream",
     "text": [
      "Downloading data from https://storage.googleapis.com/tensorflow/keras-applications/xception/xception_weights_tf_dim_ordering_tf_kernels_notop.h5\n",
      "\u001b[1m83683744/83683744\u001b[0m \u001b[32m━━━━━━━━━━━━━━━━━━━━\u001b[0m\u001b[37m\u001b[0m \u001b[1m3s\u001b[0m 0us/step\n",
      "Epoch 1/10\n"
     ]
    },
    {
     "name": "stderr",
     "output_type": "stream",
     "text": [
      "WARNING: All log messages before absl::InitializeLog() is called are written to STDERR\n",
      "I0000 00:00:1719510056.905575      76 device_compiler.h:186] Compiled cluster using XLA!  This line is logged at most once for the lifetime of the process.\n"
     ]
    },
    {
     "name": "stdout",
     "output_type": "stream",
     "text": [
      "\u001b[1m2188/2188\u001b[0m \u001b[32m━━━━━━━━━━━━━━━━━━━━\u001b[0m\u001b[37m\u001b[0m \u001b[1m697s\u001b[0m 305ms/step - accuracy: 0.6255 - loss: 1.0015 - val_accuracy: 0.6827 - val_loss: 0.6424\n",
      "Epoch 2/10\n",
      "\u001b[1m2188/2188\u001b[0m \u001b[32m━━━━━━━━━━━━━━━━━━━━\u001b[0m\u001b[37m\u001b[0m \u001b[1m649s\u001b[0m 296ms/step - accuracy: 0.6882 - loss: 0.6417 - val_accuracy: 0.6988 - val_loss: 0.5954\n",
      "Epoch 3/10\n",
      "\u001b[1m2188/2188\u001b[0m \u001b[32m━━━━━━━━━━━━━━━━━━━━\u001b[0m\u001b[37m\u001b[0m \u001b[1m649s\u001b[0m 297ms/step - accuracy: 0.6974 - loss: 0.6264 - val_accuracy: 0.6912 - val_loss: 0.6045\n",
      "Epoch 4/10\n",
      "\u001b[1m2188/2188\u001b[0m \u001b[32m━━━━━━━━━━━━━━━━━━━━\u001b[0m\u001b[37m\u001b[0m \u001b[1m649s\u001b[0m 296ms/step - accuracy: 0.6990 - loss: 0.6211 - val_accuracy: 0.6753 - val_loss: 0.6274\n",
      "Epoch 5/10\n",
      "\u001b[1m2188/2188\u001b[0m \u001b[32m━━━━━━━━━━━━━━━━━━━━\u001b[0m\u001b[37m\u001b[0m \u001b[1m647s\u001b[0m 295ms/step - accuracy: 0.6960 - loss: 0.6369 - val_accuracy: 0.7075 - val_loss: 0.5992\n",
      "Epoch 6/10\n",
      "\u001b[1m2188/2188\u001b[0m \u001b[32m━━━━━━━━━━━━━━━━━━━━\u001b[0m\u001b[37m\u001b[0m \u001b[1m647s\u001b[0m 295ms/step - accuracy: 0.7051 - loss: 0.6084 - val_accuracy: 0.6948 - val_loss: 0.6070\n",
      "Epoch 7/10\n",
      "\u001b[1m2188/2188\u001b[0m \u001b[32m━━━━━━━━━━━━━━━━━━━━\u001b[0m\u001b[37m\u001b[0m \u001b[1m647s\u001b[0m 295ms/step - accuracy: 0.7008 - loss: 0.6170 - val_accuracy: 0.7070 - val_loss: 0.5941\n",
      "Epoch 8/10\n",
      "\u001b[1m2188/2188\u001b[0m \u001b[32m━━━━━━━━━━━━━━━━━━━━\u001b[0m\u001b[37m\u001b[0m \u001b[1m646s\u001b[0m 295ms/step - accuracy: 0.7024 - loss: 0.6167 - val_accuracy: 0.7116 - val_loss: 0.6022\n",
      "Epoch 9/10\n",
      "\u001b[1m2188/2188\u001b[0m \u001b[32m━━━━━━━━━━━━━━━━━━━━\u001b[0m\u001b[37m\u001b[0m \u001b[1m647s\u001b[0m 295ms/step - accuracy: 0.7060 - loss: 0.5988 - val_accuracy: 0.7111 - val_loss: 0.5918\n",
      "Epoch 10/10\n",
      "\u001b[1m2188/2188\u001b[0m \u001b[32m━━━━━━━━━━━━━━━━━━━━\u001b[0m\u001b[37m\u001b[0m \u001b[1m647s\u001b[0m 296ms/step - accuracy: 0.7052 - loss: 0.6065 - val_accuracy: 0.7017 - val_loss: 0.5960\n",
      "\u001b[1m171/171\u001b[0m \u001b[32m━━━━━━━━━━━━━━━━━━━━\u001b[0m\u001b[37m\u001b[0m \u001b[1m51s\u001b[0m 295ms/step - accuracy: 0.6268 - loss: 0.8150\n",
      "Test Loss: 0.8259, Test Accuracy: 62.81%\n"
     ]
    }
   ],
   "source": [
    "import keras\n",
    "from keras.applications import Xception\n",
    "from keras.optimizers import Adam\n",
    "import torch\n",
    "import pandas as pd\n",
    "\n",
    "# Load the pre-trained Xception model without the top layers\n",
    "base_model = Xception(weights='imagenet', input_shape=(299, 299, 3), include_top=False)\n",
    "\n",
    "# Freeze the layers of the pre-trained model\n",
    "for layer in base_model.layers:\n",
    "    layer.trainable = False\n",
    "\n",
    "# Add a new output layer for binary classification\n",
    "x = base_model.output\n",
    "x = keras.layers.GlobalAveragePooling2D()(x)\n",
    "outputs = keras.layers.Dense(1, activation='sigmoid')(x)  # 2 classes for binary classification\n",
    "\n",
    "# Create the fine-tuned model\n",
    "model = keras.models.Model(inputs=base_model.input, outputs=outputs)\n",
    "\n",
    "# Compile the model\n",
    "model.compile(optimizer=Adam(learning_rate=0.001), loss='binary_crossentropy', metrics=['accuracy'])\n",
    "\n",
    "# Train the model\n",
    "with tf.device('/GPU:0'):\n",
    "    history = model.fit(train_data_x, epochs=10, validation_data=validation_data_x)\n",
    "    \n",
    "model.save('xception.h5')\n",
    "\n",
    "history_df = pd.DataFrame(history.history)\n",
    "history_df.to_csv('training_history.csv', index=False)\n",
    "\n",
    "\n",
    "# Evaluate the model on the test set\n",
    "with tf.device('/GPU:0'):\n",
    "    loss, accuracy = model.evaluate(test_data_x)\n",
    "    print(f'Test Loss: {loss:.4f}, Test Accuracy: {accuracy * 100:.2f}%')\n"
   ]
  },
  {
   "cell_type": "markdown",
   "id": "d97a065a",
   "metadata": {
    "papermill": {
     "duration": 1.82609,
     "end_time": "2024-06-27T19:30:08.010693",
     "exception": false,
     "start_time": "2024-06-27T19:30:06.184603",
     "status": "completed"
    },
    "tags": []
   },
   "source": [
    "# EfficientNetV2M"
   ]
  },
  {
   "cell_type": "code",
   "execution_count": 3,
   "id": "a90c9ed6",
   "metadata": {
    "execution": {
     "iopub.execute_input": "2024-06-27T19:30:11.615554Z",
     "iopub.status.busy": "2024-06-27T19:30:11.615136Z",
     "iopub.status.idle": "2024-06-27T21:35:44.839095Z",
     "shell.execute_reply": "2024-06-27T21:35:44.838070Z"
    },
    "papermill": {
     "duration": 7534.984548,
     "end_time": "2024-06-27T21:35:44.841095",
     "exception": false,
     "start_time": "2024-06-27T19:30:09.856547",
     "status": "completed"
    },
    "tags": []
   },
   "outputs": [
    {
     "name": "stdout",
     "output_type": "stream",
     "text": [
      "Downloading data from https://storage.googleapis.com/tensorflow/keras-applications/efficientnet_v2/efficientnetv2-m_notop.h5\n",
      "\u001b[1m214201816/214201816\u001b[0m \u001b[32m━━━━━━━━━━━━━━━━━━━━\u001b[0m\u001b[37m\u001b[0m \u001b[1m8s\u001b[0m 0us/step\n",
      "Epoch 1/10\n",
      "\u001b[1m2188/2188\u001b[0m \u001b[32m━━━━━━━━━━━━━━━━━━━━\u001b[0m\u001b[37m\u001b[0m \u001b[1m970s\u001b[0m 384ms/step - accuracy: 0.7245 - loss: 0.5426 - val_accuracy: 0.7695 - val_loss: 0.4781\n",
      "Epoch 2/10\n",
      "\u001b[1m2188/2188\u001b[0m \u001b[32m━━━━━━━━━━━━━━━━━━━━\u001b[0m\u001b[37m\u001b[0m \u001b[1m722s\u001b[0m 330ms/step - accuracy: 0.7631 - loss: 0.4861 - val_accuracy: 0.7739 - val_loss: 0.4710\n",
      "Epoch 3/10\n",
      "\u001b[1m2188/2188\u001b[0m \u001b[32m━━━━━━━━━━━━━━━━━━━━\u001b[0m\u001b[37m\u001b[0m \u001b[1m724s\u001b[0m 331ms/step - accuracy: 0.7713 - loss: 0.4763 - val_accuracy: 0.7793 - val_loss: 0.4623\n",
      "Epoch 4/10\n",
      "\u001b[1m2188/2188\u001b[0m \u001b[32m━━━━━━━━━━━━━━━━━━━━\u001b[0m\u001b[37m\u001b[0m \u001b[1m719s\u001b[0m 329ms/step - accuracy: 0.7738 - loss: 0.4701 - val_accuracy: 0.7815 - val_loss: 0.4583\n",
      "Epoch 5/10\n",
      "\u001b[1m2188/2188\u001b[0m \u001b[32m━━━━━━━━━━━━━━━━━━━━\u001b[0m\u001b[37m\u001b[0m \u001b[1m721s\u001b[0m 329ms/step - accuracy: 0.7754 - loss: 0.4666 - val_accuracy: 0.7819 - val_loss: 0.4567\n",
      "Epoch 6/10\n",
      "\u001b[1m2188/2188\u001b[0m \u001b[32m━━━━━━━━━━━━━━━━━━━━\u001b[0m\u001b[37m\u001b[0m \u001b[1m721s\u001b[0m 329ms/step - accuracy: 0.7775 - loss: 0.4639 - val_accuracy: 0.7818 - val_loss: 0.4565\n",
      "Epoch 7/10\n",
      "\u001b[1m2188/2188\u001b[0m \u001b[32m━━━━━━━━━━━━━━━━━━━━\u001b[0m\u001b[37m\u001b[0m \u001b[1m721s\u001b[0m 330ms/step - accuracy: 0.7778 - loss: 0.4624 - val_accuracy: 0.7822 - val_loss: 0.4569\n",
      "Epoch 8/10\n",
      "\u001b[1m2188/2188\u001b[0m \u001b[32m━━━━━━━━━━━━━━━━━━━━\u001b[0m\u001b[37m\u001b[0m \u001b[1m722s\u001b[0m 330ms/step - accuracy: 0.7803 - loss: 0.4598 - val_accuracy: 0.7842 - val_loss: 0.4533\n",
      "Epoch 9/10\n",
      "\u001b[1m2188/2188\u001b[0m \u001b[32m━━━━━━━━━━━━━━━━━━━━\u001b[0m\u001b[37m\u001b[0m \u001b[1m721s\u001b[0m 329ms/step - accuracy: 0.7797 - loss: 0.4596 - val_accuracy: 0.7849 - val_loss: 0.4531\n",
      "Epoch 10/10\n",
      "\u001b[1m2188/2188\u001b[0m \u001b[32m━━━━━━━━━━━━━━━━━━━━\u001b[0m\u001b[37m\u001b[0m \u001b[1m721s\u001b[0m 330ms/step - accuracy: 0.7814 - loss: 0.4592 - val_accuracy: 0.7818 - val_loss: 0.4582\n",
      "\u001b[1m171/171\u001b[0m \u001b[32m━━━━━━━━━━━━━━━━━━━━\u001b[0m\u001b[37m\u001b[0m \u001b[1m57s\u001b[0m 329ms/step - accuracy: 0.7017 - loss: 0.5808\n",
      "Test Loss: 0.5707622766494751, Test Accuracy: 0.7126088738441467\n"
     ]
    }
   ],
   "source": [
    "import tensorflow.keras as keras\n",
    "from tensorflow.keras.applications import EfficientNetV2M\n",
    "from tensorflow.keras.optimizers import Adam\n",
    "\n",
    "# Step 1: Load the EfficientNetV2-M model\n",
    "model = EfficientNetV2M(weights='imagenet', input_shape=(260, 260, 3), include_top=False)\n",
    "\n",
    "# Step 2: Freeze the convolutional base\n",
    "model.trainable = False\n",
    "\n",
    "# Step 3: Add custom classification head\n",
    "x = keras.layers.GlobalAveragePooling2D()(model.output)\n",
    "outputs = keras.layers.Dense(1, activation='sigmoid')(x)\n",
    "\n",
    "# Step 4: Compile the model\n",
    "model = keras.models.Model(inputs=model.input, outputs=outputs)\n",
    "model.compile(optimizer=Adam(learning_rate=0.001), loss='binary_crossentropy', metrics=['accuracy'])\n",
    "\n",
    "# Step 5: Train the model\n",
    "with tf.device('/GPU:0'):\n",
    "    history = model.fit(train_data_v2M, epochs=10, validation_data=validation_data_v2M)\n",
    "\n",
    "# Step 6: Evaluate the model\n",
    "with tf.device('/GPU:0'):\n",
    "    loss, accuracy = model.evaluate(test_data_v2M)\n",
    "    print(f'Test Loss: {loss}, Test Accuracy: {accuracy}')\n"
   ]
  }
 ],
 "metadata": {
  "kaggle": {
   "accelerator": "gpu",
   "dataSources": [
    {
     "datasetId": 1909705,
     "sourceId": 3134515,
     "sourceType": "datasetVersion"
    }
   ],
   "dockerImageVersionId": 30699,
   "isGpuEnabled": true,
   "isInternetEnabled": true,
   "language": "python",
   "sourceType": "notebook"
  },
  "kernelspec": {
   "display_name": "Python 3",
   "language": "python",
   "name": "python3"
  },
  "language_info": {
   "codemirror_mode": {
    "name": "ipython",
    "version": 3
   },
   "file_extension": ".py",
   "mimetype": "text/x-python",
   "name": "python",
   "nbconvert_exporter": "python",
   "pygments_lexer": "ipython3",
   "version": "3.10.13"
  },
  "papermill": {
   "default_parameters": {},
   "duration": 14570.970041,
   "end_time": "2024-06-27T21:35:51.671631",
   "environment_variables": {},
   "exception": null,
   "input_path": "__notebook__.ipynb",
   "output_path": "__notebook__.ipynb",
   "parameters": {},
   "start_time": "2024-06-27T17:33:00.701590",
   "version": "2.5.0"
  }
 },
 "nbformat": 4,
 "nbformat_minor": 5
}
